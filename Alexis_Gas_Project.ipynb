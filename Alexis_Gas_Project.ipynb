{
 "cells": [
  {
   "cell_type": "markdown",
   "metadata": {
    "collapsed": true
   },
   "source": [
    "# Project\n",
    "\n",
    "Alexis COTTEZ - December 21st, 2018 - 5:15PM\n",
    "\n",
    "**Deadline: December 21st, 2018 - 11:59PM**"
   ]
  },
  {
   "cell_type": "markdown",
   "metadata": {},
   "source": [
    "> Import needed packages"
   ]
  },
  {
   "cell_type": "code",
   "execution_count": 1,
   "metadata": {
    "collapsed": true
   },
   "outputs": [],
   "source": [
    "import warnings\n",
    "warnings.filterwarnings('ignore')\n",
    "import pyspark\n",
    "sc = pyspark.SparkContext()\n",
    "sc._conf.getAll()\n",
    "\n",
    "#import org.apache.spark.sql.SQLContext\n",
    "sqlsc = pyspark.SQLContext(sc)\n",
    "spark = sqlsc.sparkSession\n",
    "import pandas as pd\n",
    "import seaborn as sns\n",
    "import matplotlib.pyplot as plt\n",
    "%matplotlib inline"
   ]
  },
  {
   "cell_type": "code",
   "execution_count": 2,
   "metadata": {
    "collapsed": true
   },
   "outputs": [],
   "source": [
    "import pandas as pd"
   ]
  },
  {
   "cell_type": "markdown",
   "metadata": {},
   "source": [
    "## Data Preparation – step 1 – Merging gas prices files"
   ]
  },
  {
   "cell_type": "code",
   "execution_count": 3,
   "metadata": {
    "collapsed": true
   },
   "outputs": [],
   "source": [
    "prix2017_ddf = sqlsc.read.option('sep',';').option('header','false').option('inferSchema','true').csv('data/Prix2017.csv')\n",
    "prix2016_ddf = sqlsc.read.option('sep',';').option('header','false').option('inferSchema','true').csv('data/Prix2016.csv')\n",
    "prix2018_ddf = sqlsc.read.option('sep',';').option('header','false').option('inferSchema','true').csv('data/Prix20181114.csv')\n",
    "prix2015_ddf = sqlsc.read.option('sep',';').option('header','false').option('inferSchema','true').csv('data/Prix2015.csv')"
   ]
  },
  {
   "cell_type": "code",
   "execution_count": 4,
   "metadata": {},
   "outputs": [
    {
     "data": {
      "text/plain": [
       "14192497"
      ]
     },
     "execution_count": 4,
     "metadata": {},
     "output_type": "execute_result"
    }
   ],
   "source": [
    "prix_ddf = prix2015_ddf.union(prix2016_ddf).union(prix2017_ddf).union(prix2018_ddf)\n",
    "prix_ddf.count()"
   ]
  },
  {
   "cell_type": "markdown",
   "metadata": {},
   "source": [
    "There are 14,192,497.0 observations in the 2015 to 2018 (November) total file."
   ]
  },
  {
   "cell_type": "code",
   "execution_count": 5,
   "metadata": {
    "collapsed": true
   },
   "outputs": [],
   "source": [
    "prix_ddf = prix_ddf.selectExpr(\n",
    "    '_c0 as id_station', \n",
    "    '_c1 as code_postal',\n",
    "    '_c2 as type_station',\n",
    "    '_c3 as latitude',\n",
    "    '_c4 as longitude',\n",
    "    '_c5 as date_releve',\n",
    "    '_c6 as type_carburant',\n",
    "    '_c7 as libelle_carburant',\n",
    "    '_c8/1000 as prix'\n",
    ").dropna()"
   ]
  },
  {
   "cell_type": "code",
   "execution_count": 6,
   "metadata": {},
   "outputs": [
    {
     "data": {
      "text/plain": [
       "14173853"
      ]
     },
     "execution_count": 6,
     "metadata": {},
     "output_type": "execute_result"
    }
   ],
   "source": [
    "prix_ddf.count()"
   ]
  },
  {
   "cell_type": "markdown",
   "metadata": {},
   "source": [
    "> Less than 0.14% of data was NA, I choose to drop them all."
   ]
  },
  {
   "cell_type": "code",
   "execution_count": 7,
   "metadata": {},
   "outputs": [
    {
     "name": "stdout",
     "output_type": "stream",
     "text": [
      "+----------+-----------+------------+---------+---------+-------------------+--------------+-----------------+-----+\n",
      "|id_station|code_postal|type_station| latitude|longitude|        date_releve|type_carburant|libelle_carburant| prix|\n",
      "+----------+-----------+------------+---------+---------+-------------------+--------------+-----------------+-----+\n",
      "|   1000001|       1000|           R|4620114.0| 519791.0|2015-01-02 11:01:45|             1|           Gazole|1.141|\n",
      "|   1000001|       1000|           R|4620114.0| 519791.0|2015-01-03 09:01:42|             1|           Gazole|1.141|\n",
      "|   1000001|       1000|           R|4620114.0| 519791.0|2015-01-07 10:01:44|             1|           Gazole|1.141|\n",
      "|   1000001|       1000|           R|4620114.0| 519791.0|2015-01-08 10:01:06|             1|           Gazole|1.115|\n",
      "|   1000001|       1000|           R|4620114.0| 519791.0|2015-01-09 10:01:19|             1|           Gazole|1.115|\n",
      "+----------+-----------+------------+---------+---------+-------------------+--------------+-----------------+-----+\n",
      "only showing top 5 rows\n",
      "\n"
     ]
    }
   ],
   "source": [
    "prix_ddf.show(5)"
   ]
  },
  {
   "cell_type": "markdown",
   "metadata": {},
   "source": [
    "Let's make usable our price table in Spark environment."
   ]
  },
  {
   "cell_type": "code",
   "execution_count": 8,
   "metadata": {
    "collapsed": true
   },
   "outputs": [],
   "source": [
    "sqlsc.registerDataFrameAsTable(prix_ddf, 'prix')"
   ]
  },
  {
   "cell_type": "markdown",
   "metadata": {},
   "source": [
    "Explication of functions:\n",
    "    - day(.): returns the day when . is a date\n",
    "    - weekofyear(.): gives us the week of the year when . is a date (Year, month, day, hour) due to is coding format \n",
    "    - month(.): returns the month\n",
    "    - year(.): gives the year\n",
    "    - latitude/100,000 in order to have a 4,... format of latitude (same for longitude)\n",
    "    "
   ]
  },
  {
   "cell_type": "code",
   "execution_count": 9,
   "metadata": {
    "collapsed": true
   },
   "outputs": [],
   "source": [
    "spark.sql(\n",
    "    'SELECT  id_station, code_postal, type_station, latitude/100000 as latitude, longitude/100000 as longitude, date_releve, year(date_releve) as annee, month(date_releve) as mois, weekofyear(date_releve) as semaine, day(date_releve) as jour, type_carburant, libelle_carburant, prix '\n",
    "    'FROM prix '\n",
    ").cache().createOrReplaceTempView('prix')"
   ]
  },
  {
   "cell_type": "code",
   "execution_count": 10,
   "metadata": {},
   "outputs": [
    {
     "name": "stdout",
     "output_type": "stream",
     "text": [
      "+----------+-----------+------------+--------+---------+-------------------+-----+----+-------+----+--------------+-----------------+-----+\n",
      "|id_station|code_postal|type_station|latitude|longitude|        date_releve|annee|mois|semaine|jour|type_carburant|libelle_carburant| prix|\n",
      "+----------+-----------+------------+--------+---------+-------------------+-----+----+-------+----+--------------+-----------------+-----+\n",
      "|   1000001|       1000|           R|46.20114|  5.19791|2015-01-02 11:01:45| 2015|   1|      1|   2|             1|           Gazole|1.141|\n",
      "|   1000001|       1000|           R|46.20114|  5.19791|2015-01-03 09:01:42| 2015|   1|      1|   3|             1|           Gazole|1.141|\n",
      "|   1000001|       1000|           R|46.20114|  5.19791|2015-01-07 10:01:44| 2015|   1|      2|   7|             1|           Gazole|1.141|\n",
      "|   1000001|       1000|           R|46.20114|  5.19791|2015-01-08 10:01:06| 2015|   1|      2|   8|             1|           Gazole|1.115|\n",
      "|   1000001|       1000|           R|46.20114|  5.19791|2015-01-09 10:01:19| 2015|   1|      2|   9|             1|           Gazole|1.115|\n",
      "|   1000001|       1000|           R|46.20114|  5.19791|2015-01-10 09:01:33| 2015|   1|      2|  10|             1|           Gazole|1.099|\n",
      "|   1000001|       1000|           R|46.20114|  5.19791|2015-01-14 09:01:23| 2015|   1|      3|  14|             1|           Gazole|1.088|\n",
      "|   1000001|       1000|           R|46.20114|  5.19791|2015-01-16 14:01:10| 2015|   1|      3|  16|             1|           Gazole|1.074|\n",
      "|   1000001|       1000|           R|46.20114|  5.19791|2015-01-24 09:01:38| 2015|   1|      4|  24|             1|           Gazole|1.074|\n",
      "|   1000001|       1000|           R|46.20114|  5.19791|2015-01-27 12:01:56| 2015|   1|      5|  27|             1|           Gazole|1.088|\n",
      "|   1000001|       1000|           R|46.20114|  5.19791|2015-01-28 11:01:43| 2015|   1|      5|  28|             1|           Gazole|1.088|\n",
      "|   1000001|       1000|           R|46.20114|  5.19791|2015-01-30 09:01:33| 2015|   1|      5|  30|             1|           Gazole|1.095|\n",
      "|   1000001|       1000|           R|46.20114|  5.19791|2015-01-31 09:01:39| 2015|   1|      5|  31|             1|           Gazole|1.095|\n",
      "|   1000001|       1000|           R|46.20114|  5.19791|2015-02-02 10:02:45| 2015|   2|      6|   2|             1|           Gazole|1.095|\n",
      "|   1000001|       1000|           R|46.20114|  5.19791|2015-02-03 09:02:59| 2015|   2|      6|   3|             1|           Gazole|1.095|\n",
      "|   1000001|       1000|           R|46.20114|  5.19791|2015-02-04 09:02:05| 2015|   2|      6|   4|             1|           Gazole|1.109|\n",
      "|   1000001|       1000|           R|46.20114|  5.19791|2015-02-05 09:02:49| 2015|   2|      6|   5|             1|           Gazole|1.109|\n",
      "|   1000001|       1000|           R|46.20114|  5.19791|2015-02-05 10:02:06| 2015|   2|      6|   5|             1|           Gazole|1.119|\n",
      "|   1000001|       1000|           R|46.20114|  5.19791|2015-02-06 10:02:02| 2015|   2|      6|   6|             1|           Gazole|1.124|\n",
      "|   1000001|       1000|           R|46.20114|  5.19791|2015-02-09 10:02:50| 2015|   2|      7|   9|             1|           Gazole|1.124|\n",
      "+----------+-----------+------------+--------+---------+-------------------+-----+----+-------+----+--------------+-----------------+-----+\n",
      "only showing top 20 rows\n",
      "\n"
     ]
    }
   ],
   "source": [
    "spark.sql(\n",
    "    'SELECT * '\n",
    "    'FROM prix '\n",
    ").show(20)"
   ]
  },
  {
   "cell_type": "markdown",
   "metadata": {},
   "source": [
    "## Data Preparation – step 2 – Deduplicating stations"
   ]
  },
  {
   "cell_type": "code",
   "execution_count": 11,
   "metadata": {
    "collapsed": true
   },
   "outputs": [],
   "source": [
    "stations2018_ddf = (spark.read.load('data/Stations2018.csv', \n",
    "                                format='csv', sep='|', header='false', inferSchema='true')\n",
    "                .selectExpr(\n",
    "                    '_c0 as id_station', \n",
    "                    '_c1 as code_postal',\n",
    "                    '_c2 as type_station',\n",
    "                    '_c3/100000 as longitude',\n",
    "                    '_c4/100000 as latitude',\n",
    "                    '_c5 as rue',\n",
    "                    '_c6 as ville'\n",
    "                )\n",
    "                .dropna()\n",
    "                .cache()\n",
    "                )\n",
    "\n",
    "stations2017_ddf = (spark.read.load('data/Stations2017.csv', \n",
    "                                format='csv', sep='|', header='false', inferSchema='true')\n",
    "                .selectExpr(\n",
    "                    '_c0 as id_station', \n",
    "                    '_c1 as code_postal',\n",
    "                    '_c2 as type_station',\n",
    "                    '_c3/100000 as longitude',\n",
    "                    '_c4/100000 as latitude',\n",
    "                    '_c5 as rue',\n",
    "                    '_c6 as ville'\n",
    "                )\n",
    "                .dropna()\n",
    "                .cache()\n",
    "                )\n",
    "\n",
    "stations2016_ddf = (spark.read.load('data/Stations2016.csv', \n",
    "                                format='csv', sep='|', header='false', inferSchema='true')\n",
    "                .selectExpr(\n",
    "                    '_c0 as id_station', \n",
    "                    '_c1 as code_postal',\n",
    "                    '_c2 as type_station',\n",
    "                    '_c3/100000 as longitude',\n",
    "                    '_c4/100000 as latitude',\n",
    "                    '_c5 as rue',\n",
    "                    '_c6 as ville'\n",
    "                )\n",
    "                .dropna()\n",
    "                .cache()\n",
    "                )"
   ]
  },
  {
   "cell_type": "markdown",
   "metadata": {},
   "source": [
    "> /!\\ We observe an inversion in latitude/longitude when one or both is/are negative !"
   ]
  },
  {
   "cell_type": "code",
   "execution_count": 12,
   "metadata": {},
   "outputs": [
    {
     "data": {
      "text/plain": [
       "37439"
      ]
     },
     "execution_count": 12,
     "metadata": {},
     "output_type": "execute_result"
    }
   ],
   "source": [
    "stations_ddf = stations2016_ddf.union(stations2017_ddf).union(stations2018_ddf)\n",
    "stations_ddf.count()"
   ]
  },
  {
   "cell_type": "markdown",
   "metadata": {},
   "source": [
    "There are 37,439 observations in stations total file (2016 to 2018)"
   ]
  },
  {
   "cell_type": "code",
   "execution_count": 13,
   "metadata": {},
   "outputs": [
    {
     "name": "stdout",
     "output_type": "stream",
     "text": [
      "+----------+-----------+------------+-------------+-------------+--------------------+--------------------+\n",
      "|id_station|code_postal|type_station|    longitude|     latitude|                 rue|               ville|\n",
      "+----------+-----------+------------+-------------+-------------+--------------------+--------------------+\n",
      "|   1000001|       1000|           R|     46.20114|      5.19791|596 AVENUE DE TRE...|SAINT-DENIS-LèS-B...|\n",
      "|   1000002|       1000|           R|     46.21842|      5.22767| 16 Avenue de Marboz|     BOURG-EN-BRESSE|\n",
      "|   1000004|       1000|           R|     46.18836|      5.24447|20 Avenue du Maré...|     Bourg-en-Bresse|\n",
      "|   1000005|       1000|           R|46.2009359235|5.19942024022|642 Avenue de Tré...|SAINT-DENIS-LèS-B...|\n",
      "|   1000006|       1000|           R|     46.20754|      5.23758|1 Boulevard John ...|     BOURG-EN-BRESSE|\n",
      "+----------+-----------+------------+-------------+-------------+--------------------+--------------------+\n",
      "only showing top 5 rows\n",
      "\n"
     ]
    }
   ],
   "source": [
    "stations_ddf.show(5)"
   ]
  },
  {
   "cell_type": "markdown",
   "metadata": {},
   "source": [
    "Let's build a 'station' unique id.\n",
    "To build it, I choose to concat the street and city name of all observations in order to be the key to the unique id process."
   ]
  },
  {
   "cell_type": "code",
   "execution_count": 14,
   "metadata": {
    "collapsed": true
   },
   "outputs": [],
   "source": [
    "sqlsc.registerDataFrameAsTable(stations_ddf, 'station')\n",
    "spark.sql(\n",
    "    'SELECT *, concat(rue,ville) as adresse '\n",
    "    'FROM station '\n",
    "    'ORDER BY adresse '\n",
    "    ).cache().createOrReplaceTempView('station')"
   ]
  },
  {
   "cell_type": "markdown",
   "metadata": {},
   "source": [
    "Taking only distinct adresse, we will chose the maximum id_station in order to build the unique id for a same station (located at the same place)."
   ]
  },
  {
   "cell_type": "code",
   "execution_count": 15,
   "metadata": {
    "collapsed": true
   },
   "outputs": [],
   "source": [
    "spark.sql(\n",
    "    'SELECT distinct(adresse), max(id_station) as id_unique, code_postal, type_station, longitude, latitude  '\n",
    "    'FROM station '\n",
    "    'GROUP BY adresse, code_postal, type_station, longitude, latitude '\n",
    "    'ORDER BY adresse '\n",
    "    ).cache().createOrReplaceTempView('station_clean')"
   ]
  },
  {
   "cell_type": "code",
   "execution_count": 16,
   "metadata": {},
   "outputs": [
    {
     "name": "stdout",
     "output_type": "stream",
     "text": [
      "+--------------------+---------+-----------+------------+---------+--------+\n",
      "|             adresse|id_unique|code_postal|type_station|longitude|latitude|\n",
      "+--------------------+---------+-----------+------------+---------+--------+\n",
      "| 180 Route Nation...| 60730001|      60730|           R| 49.28908| 2.20085|\n",
      "| Aire de FleuryFL...| 91700002|      91700|           R| 48.62404| 2.36962|\n",
      "| Allée Anne de Pi...|  2600001|       2600|           R| 49.25086| 3.08205|\n",
      "| Allée de la Comm...| 79260004|      79260|           R| 46.35519|-0.31186|\n",
      "| Allée de la Libé...| 57100003|      57100|           R|  49.3632|  6.1549|\n",
      "| Allée du Chêne V...| 35650001|      35650|           R| 48.09564|-1.77789|\n",
      "| Au Village de la...| 71800002|      71800|           R| 46.29043| 4.32281|\n",
      "| Autoroute de Nor...| 27210006|      27210|           A| 49.37268| 0.65987|\n",
      "| Autoroute de Nor...| 14730002|      14730|           A| 49.16711|-0.28803|\n",
      "| Autoroute de l'E...| 51400005|      51400|           A| 49.12311| 4.23946|\n",
      "| Autoroute des An...| 62860005|      62860|           A| 50.27825| 2.96596|\n",
      "| Autoroute du Nor...| 59113004|      59113|           A| 49.83909|  2.8301|\n",
      "| Autoroute du Nor...| 95470002|      95470|           A| 49.07043| 2.55224|\n",
      "| Autoroute du Sol...| 21190005|      21190|           A| 46.95888| 4.83532|\n",
      "| Autoroute du Sol...| 26600005|      26600|           A| 45.13448| 4.89375|\n",
      "| Autoroute du Sol...| 26600012|      26600|           A| 45.01933| 4.87541|\n",
      "| Autoroute du Sol...| 38150004|      38150|           A| 45.39307| 4.80729|\n",
      "| Avenue Albert 1e...| 21000005|      21000|           R|  47.3224|  5.0188|\n",
      "| Avenue Albert de...| 54150001|      54150|           R| 49.25374| 5.93659|\n",
      "| Avenue Alfred Co...| 47800003|      47800|           R| 44.59548| 0.35238|\n",
      "+--------------------+---------+-----------+------------+---------+--------+\n",
      "only showing top 20 rows\n",
      "\n"
     ]
    }
   ],
   "source": [
    "spark.sql(\n",
    "    'SELECT * '\n",
    "    'FROM station_clean '\n",
    "    ).show(20)"
   ]
  },
  {
   "cell_type": "code",
   "execution_count": 17,
   "metadata": {},
   "outputs": [
    {
     "data": {
      "text/plain": [
       "18505"
      ]
     },
     "execution_count": 17,
     "metadata": {},
     "output_type": "execute_result"
    }
   ],
   "source": [
    "spark.sql(\n",
    "    'SELECT * '\n",
    "    'FROM station_clean '\n",
    "    ).count()"
   ]
  },
  {
   "cell_type": "markdown",
   "metadata": {},
   "source": [
    "We can extract an id_unique table."
   ]
  },
  {
   "cell_type": "code",
   "execution_count": 18,
   "metadata": {
    "collapsed": true
   },
   "outputs": [],
   "source": [
    "spark.sql(\n",
    "    'SELECT distinct(adresse), id_unique, longitude, latitude '\n",
    "    'FROM station_clean '\n",
    "    'ORDER BY adresse '\n",
    "    #).show(20)\n",
    "    ).cache().createOrReplaceTempView('ad_id')"
   ]
  },
  {
   "cell_type": "markdown",
   "metadata": {},
   "source": [
    "> So we can construct the mapple table with id and id_unique."
   ]
  },
  {
   "cell_type": "code",
   "execution_count": 19,
   "metadata": {
    "collapsed": true
   },
   "outputs": [],
   "source": [
    "spark.sql(\n",
    "    'SELECT station.adresse, station.id_station, ad_id.id_unique, ad_id.longitude, station.latitude '\n",
    "    'FROM station, ad_id '\n",
    "    'WHERE station.adresse = ad_id.adresse and  station.longitude = ad_id.longitude and station.latitude = ad_id.latitude '\n",
    "    'GROUP BY station.adresse, station.id_station, ad_id.id_unique, ad_id.longitude, station.latitude'\n",
    "    ).cache().createOrReplaceTempView('mapple')"
   ]
  },
  {
   "cell_type": "code",
   "execution_count": 20,
   "metadata": {},
   "outputs": [
    {
     "name": "stdout",
     "output_type": "stream",
     "text": [
      "+--------------------+----------+---------+---------+--------+\n",
      "|             adresse|id_station|id_unique|longitude|latitude|\n",
      "+--------------------+----------+---------+---------+--------+\n",
      "| 180 Route Nation...|  60730001| 60730001| 49.28908| 2.20085|\n",
      "| Aire de FleuryFL...|  91700002| 91700002| 48.62404| 2.36962|\n",
      "| Allée Anne de Pi...|   2600001|  2600001| 49.25086| 3.08205|\n",
      "| Allée de la Comm...|  79260004| 79260004| 46.35519|-0.31186|\n",
      "| Allée de la Libé...|  57100003| 57100003|  49.3632|  6.1549|\n",
      "| Allée du Chêne V...|  35650001| 35650001| 48.09564|-1.77789|\n",
      "| Au Village de la...|  71800002| 71800002| 46.29043| 4.32281|\n",
      "| Autoroute de Nor...|  27210006| 27210006| 49.37268| 0.65987|\n",
      "| Autoroute de Nor...|  14730002| 14730002| 49.16711|-0.28803|\n",
      "| Autoroute de l'E...|  51400002| 51400005| 49.12311| 4.23946|\n",
      "| Autoroute de l'E...|  51400005| 51400005| 49.12311| 4.23946|\n",
      "| Autoroute des An...|  62860005| 62860005| 50.27825| 2.96596|\n",
      "| Autoroute du Nor...|  59113004| 59113004| 49.83909|  2.8301|\n",
      "| Autoroute du Nor...|  95470002| 95470002| 49.07043| 2.55224|\n",
      "| Autoroute du Sol...|  21190005| 21190005| 46.95888| 4.83532|\n",
      "| Autoroute du Sol...|  26600004| 26600005| 45.13448| 4.89375|\n",
      "| Autoroute du Sol...|  26600005| 26600005| 45.13448| 4.89375|\n",
      "| Autoroute du Sol...|  26600012| 26600012| 45.01933| 4.87541|\n",
      "| Autoroute du Sol...|  38150004| 38150004| 45.39307| 4.80729|\n",
      "| Avenue Albert 1e...|  21000005| 21000005|  47.3224|  5.0188|\n",
      "+--------------------+----------+---------+---------+--------+\n",
      "only showing top 20 rows\n",
      "\n"
     ]
    }
   ],
   "source": [
    "spark.sql(\n",
    "    'SELECT * '\n",
    "    'FROM mapple '\n",
    "    ).show(20)"
   ]
  },
  {
   "cell_type": "markdown",
   "metadata": {},
   "source": [
    "We can merge it to our station table in order to have a full table with both id."
   ]
  },
  {
   "cell_type": "code",
   "execution_count": 21,
   "metadata": {
    "collapsed": true
   },
   "outputs": [],
   "source": [
    "spark.sql(\n",
    "    'SELECT prix.id_station, prix.code_postal, prix.type_station, prix.latitude, prix.longitude, prix.date_releve, prix.annee, prix.mois, prix.semaine, prix.jour, prix.type_carburant, prix.libelle_carburant, prix.prix, mapple.id_unique, mapple.adresse '\n",
    "    'FROM prix, mapple '\n",
    "    'WHERE prix.id_station = mapple.id_station '\n",
    "    'GROUP BY prix.id_station, prix.code_postal, prix.type_station, prix.latitude, prix.longitude, prix.date_releve, prix.annee, prix.mois, prix.semaine, prix.jour, prix.type_carburant, prix.libelle_carburant, prix.prix, mapple.id_unique, mapple.adresse '\n",
    "    #).show(10)\n",
    "    ).cache().createOrReplaceTempView('prix_clean')"
   ]
  },
  {
   "cell_type": "code",
   "execution_count": 22,
   "metadata": {},
   "outputs": [
    {
     "name": "stdout",
     "output_type": "stream",
     "text": [
      "+-----+--------------------+\n",
      "|  val|             adresse|\n",
      "+-----+--------------------+\n",
      "| true|Autoroute de l'Es...|\n",
      "| true|Rue des Hautes Co...|\n",
      "| true|72 COURS TOLSTOIV...|\n",
      "| true|39 Boulevard de l...|\n",
      "| true|Rue de Vauluisant...|\n",
      "| true|Route du Barcarès...|\n",
      "| true|BD HENRI DUNANTAN...|\n",
      "| true|47 COURS EMILE ZO...|\n",
      "| true|AVENUE CHARLES LI...|\n",
      "| true|    KERNOUSKervignac|\n",
      "| true|7 Rue du Général ...|\n",
      "| true|Rue de la CrayVOU...|\n",
      "| true| Rue Jean le Cout...|\n",
      "| true|BOULEVARD GUY MOL...|\n",
      "| true|Route d'UzèsSaint...|\n",
      "| true|Route de Saint-Am...|\n",
      "| true|Avenue de RodezPo...|\n",
      "| true|Autoroute de l'Es...|\n",
      "|false|Rue de la GareCHA...|\n",
      "|false|170 Avenue d'Auen...|\n",
      "|false|Route Nationale 3...|\n",
      "|false|13 GRANDE RUEAMANCEY|\n",
      "|false|1394 Avenue de Dr...|\n",
      "|false|27 Avenue du Géné...|\n",
      "|false|17 Quai Félix Fau...|\n",
      "+-----+--------------------+\n",
      "only showing top 25 rows\n",
      "\n"
     ]
    }
   ],
   "source": [
    "spark.sql(\n",
    "    'SELECT distinct(id_station) != id_unique as val , adresse '\n",
    "    'FROM prix_clean '\n",
    "    'ORDER by !val '\n",
    "    ).show(25)"
   ]
  },
  {
   "cell_type": "markdown",
   "metadata": {},
   "source": [
    "There were 18 stations where the id changes for a same station."
   ]
  },
  {
   "cell_type": "markdown",
   "metadata": {},
   "source": [
    "## Data Preparation – step 3 - price index for each station per day"
   ]
  },
  {
   "cell_type": "code",
   "execution_count": 23,
   "metadata": {},
   "outputs": [
    {
     "name": "stdout",
     "output_type": "stream",
     "text": [
      "+----------+-----------+------------+--------+---------+-------------------+-----+----+-------+----+--------------+-----------------+-----+---------+--------------------+\n",
      "|id_station|code_postal|type_station|latitude|longitude|        date_releve|annee|mois|semaine|jour|type_carburant|libelle_carburant| prix|id_unique|             adresse|\n",
      "+----------+-----------+------------+--------+---------+-------------------+-----+----+-------+----+--------------+-----------------+-----+---------+--------------------+\n",
      "|   1000001|       1000|           R|46.20114|  5.19791|2015-01-02 11:01:45| 2015|   1|      1|   2|             2|             SP95|1.311|  1000001|596 AVENUE DE TRE...|\n",
      "|   1000001|       1000|           R|46.20114|  5.19791|2015-01-02 11:01:45| 2015|   1|      1|   2|             1|           Gazole|1.141|  1000001|596 AVENUE DE TRE...|\n",
      "|   1000001|       1000|           R|46.20114|  5.19791|2015-01-02 11:01:46| 2015|   1|      1|   2|             6|             SP98|1.327|  1000001|596 AVENUE DE TRE...|\n",
      "|   1000001|       1000|           R|46.20114|  5.19791|2015-01-03 09:01:42| 2015|   1|      1|   3|             1|           Gazole|1.141|  1000001|596 AVENUE DE TRE...|\n",
      "|   1000001|       1000|           R|46.20114|  5.19791|2015-01-03 09:01:42| 2015|   1|      1|   3|             6|             SP98|1.327|  1000001|596 AVENUE DE TRE...|\n",
      "|   1000001|       1000|           R|46.20114|  5.19791|2015-01-03 09:01:42| 2015|   1|      1|   3|             2|             SP95|1.311|  1000001|596 AVENUE DE TRE...|\n",
      "|   1000001|       1000|           R|46.20114|  5.19791|2015-01-07 10:01:44| 2015|   1|      2|   7|             1|           Gazole|1.141|  1000001|596 AVENUE DE TRE...|\n",
      "|   1000001|       1000|           R|46.20114|  5.19791|2015-01-07 10:01:44| 2015|   1|      2|   7|             2|             SP95|1.279|  1000001|596 AVENUE DE TRE...|\n",
      "|   1000001|       1000|           R|46.20114|  5.19791|2015-01-07 10:01:45| 2015|   1|      2|   7|             6|             SP98|1.327|  1000001|596 AVENUE DE TRE...|\n",
      "|   1000001|       1000|           R|46.20114|  5.19791|2015-01-08 10:01:06| 2015|   1|      2|   8|             2|             SP95|1.279|  1000001|596 AVENUE DE TRE...|\n",
      "|   1000001|       1000|           R|46.20114|  5.19791|2015-01-08 10:01:06| 2015|   1|      2|   8|             1|           Gazole|1.115|  1000001|596 AVENUE DE TRE...|\n",
      "|   1000001|       1000|           R|46.20114|  5.19791|2015-01-08 10:01:06| 2015|   1|      2|   8|             6|             SP98|1.299|  1000001|596 AVENUE DE TRE...|\n",
      "|   1000001|       1000|           R|46.20114|  5.19791|2015-01-09 10:01:19| 2015|   1|      2|   9|             2|             SP95|1.279|  1000001|596 AVENUE DE TRE...|\n",
      "|   1000001|       1000|           R|46.20114|  5.19791|2015-01-09 10:01:19| 2015|   1|      2|   9|             1|           Gazole|1.115|  1000001|596 AVENUE DE TRE...|\n",
      "|   1000001|       1000|           R|46.20114|  5.19791|2015-01-09 10:01:19| 2015|   1|      2|   9|             6|             SP98|1.299|  1000001|596 AVENUE DE TRE...|\n",
      "|   1000001|       1000|           R|46.20114|  5.19791|2015-01-10 09:01:33| 2015|   1|      2|  10|             2|             SP95|1.269|  1000001|596 AVENUE DE TRE...|\n",
      "|   1000001|       1000|           R|46.20114|  5.19791|2015-01-10 09:01:33| 2015|   1|      2|  10|             6|             SP98|1.295|  1000001|596 AVENUE DE TRE...|\n",
      "|   1000001|       1000|           R|46.20114|  5.19791|2015-01-10 09:01:33| 2015|   1|      2|  10|             1|           Gazole|1.099|  1000001|596 AVENUE DE TRE...|\n",
      "|   1000001|       1000|           R|46.20114|  5.19791|2015-01-14 09:01:23| 2015|   1|      3|  14|             1|           Gazole|1.088|  1000001|596 AVENUE DE TRE...|\n",
      "|   1000001|       1000|           R|46.20114|  5.19791|2015-01-14 09:01:23| 2015|   1|      3|  14|             2|             SP95|1.269|  1000001|596 AVENUE DE TRE...|\n",
      "|   1000001|       1000|           R|46.20114|  5.19791|2015-01-14 09:01:23| 2015|   1|      3|  14|             6|             SP98|1.295|  1000001|596 AVENUE DE TRE...|\n",
      "|   1000001|       1000|           R|46.20114|  5.19791|2015-01-16 14:01:10| 2015|   1|      3|  16|             1|           Gazole|1.074|  1000001|596 AVENUE DE TRE...|\n",
      "|   1000001|       1000|           R|46.20114|  5.19791|2015-01-16 14:01:11| 2015|   1|      3|  16|             6|             SP98|1.295|  1000001|596 AVENUE DE TRE...|\n",
      "|   1000001|       1000|           R|46.20114|  5.19791|2015-01-16 14:01:11| 2015|   1|      3|  16|             2|             SP95|1.245|  1000001|596 AVENUE DE TRE...|\n",
      "|   1000001|       1000|           R|46.20114|  5.19791|2015-01-24 09:01:38| 2015|   1|      4|  24|             1|           Gazole|1.074|  1000001|596 AVENUE DE TRE...|\n",
      "+----------+-----------+------------+--------+---------+-------------------+-----+----+-------+----+--------------+-----------------+-----+---------+--------------------+\n",
      "only showing top 25 rows\n",
      "\n"
     ]
    }
   ],
   "source": [
    "spark.sql(\n",
    "    'SELECT * '\n",
    "    'FROM prix_clean '\n",
    "    'ORDER by id_unique, date_releve '\n",
    "    ).show(25)"
   ]
  },
  {
   "cell_type": "markdown",
   "metadata": {},
   "source": [
    "We can now construct a variable which recapitulate the national mean price per day and per gas type."
   ]
  },
  {
   "cell_type": "code",
   "execution_count": 24,
   "metadata": {
    "collapsed": true
   },
   "outputs": [],
   "source": [
    "spark.sql(\n",
    "    'SELECT AVG(prix) AS moyenne_nationale, jour, mois, annee, libelle_carburant '\n",
    "    'FROM prix_clean '\n",
    "    'GROUP BY annee, mois, jour, libelle_carburant '\n",
    "    'ORDER BY annee, mois, jour '\n",
    "    #).show(30)\n",
    "    ).cache().createOrReplaceTempView('moyenne_natio')"
   ]
  },
  {
   "cell_type": "code",
   "execution_count": 25,
   "metadata": {},
   "outputs": [
    {
     "name": "stdout",
     "output_type": "stream",
     "text": [
      "+------------------+----+----+-----+-----------------+\n",
      "| moyenne_nationale|jour|mois|annee|libelle_carburant|\n",
      "+------------------+----+----+-----+-----------------+\n",
      "|0.9079463087248327|   1|   1| 2015|             GPLc|\n",
      "|1.4057822878228778|   1|   1| 2015|             SP98|\n",
      "|1.2027785016286643|   1|   1| 2015|           Gazole|\n",
      "|1.3555525812619502|   1|   1| 2015|              E10|\n",
      "| 0.937842105263158|   1|   1| 2015|              E85|\n",
      "|1.3539901960784313|   1|   1| 2015|             SP95|\n",
      "|0.8101080000000003|   2|   1| 2015|             GPLc|\n",
      "|0.8713706293706294|   2|   1| 2015|              E85|\n",
      "|1.2946060482223138|   2|   1| 2015|             SP95|\n",
      "|1.1329152334152335|   2|   1| 2015|           Gazole|\n",
      "|1.3482048079925064|   2|   1| 2015|             SP98|\n",
      "|1.2804677121771217|   2|   1| 2015|              E10|\n",
      "|1.2933030907278162|   3|   1| 2015|              E10|\n",
      "|0.8549285714285716|   3|   1| 2015|              E85|\n",
      "|1.2921892307692304|   3|   1| 2015|             SP95|\n",
      "|1.3477750342935528|   3|   1| 2015|             SP98|\n",
      "|1.1349607996863975|   3|   1| 2015|           Gazole|\n",
      "|0.8322983425414372|   3|   1| 2015|             GPLc|\n",
      "|0.9211818181818181|   4|   1| 2015|              E85|\n",
      "|1.2980945945945945|   4|   1| 2015|              E10|\n",
      "|1.3583842364532024|   4|   1| 2015|             SP98|\n",
      "| 1.143383561643836|   4|   1| 2015|           Gazole|\n",
      "|1.3101377551020412|   4|   1| 2015|             SP95|\n",
      "|0.8549999999999999|   4|   1| 2015|             GPLc|\n",
      "|1.2833116883116893|   5|   1| 2015|              E10|\n",
      "| 0.810442708333334|   5|   1| 2015|             GPLc|\n",
      "|  1.34745572609209|   5|   1| 2015|             SP98|\n",
      "| 1.136414738341047|   5|   1| 2015|           Gazole|\n",
      "|1.2959457755359394|   5|   1| 2015|             SP95|\n",
      "|0.8769666666666666|   5|   1| 2015|              E85|\n",
      "+------------------+----+----+-----+-----------------+\n",
      "only showing top 30 rows\n",
      "\n"
     ]
    }
   ],
   "source": [
    "spark.sql(\n",
    "    'SELECT * '\n",
    "    'FROM moyenne_natio '\n",
    "    'ORDER BY annee, mois, jour '\n",
    "    ).show(30)"
   ]
  },
  {
   "cell_type": "markdown",
   "metadata": {},
   "source": [
    "We can add this mean to our big price table."
   ]
  },
  {
   "cell_type": "code",
   "execution_count": 26,
   "metadata": {
    "collapsed": true
   },
   "outputs": [],
   "source": [
    "spark.sql(\n",
    "    'SELECT prix_clean.id_station, prix_clean.code_postal, prix_clean.date_releve, prix_clean.annee, prix_clean.mois, '\n",
    "    'prix_clean.semaine, prix_clean.jour, prix_clean.libelle_carburant, prix_clean.prix, prix_clean.id_unique, '\n",
    "    'prix_clean.adresse, moyenne_natio.moyenne_nationale '\n",
    "    'FROM prix_clean, moyenne_natio '\n",
    "    'WHERE prix_clean.jour = moyenne_natio.jour and prix_clean.mois = moyenne_natio.mois and '\n",
    "    'prix_clean.annee = moyenne_natio.annee and prix_clean.libelle_carburant = moyenne_natio.libelle_carburant '\n",
    "    'GROUP BY prix_clean.id_station, prix_clean.code_postal, prix_clean.date_releve, prix_clean.annee, prix_clean.mois, '\n",
    "    'prix_clean.semaine, prix_clean.jour, prix_clean.libelle_carburant, prix_clean.prix, prix_clean.id_unique, '\n",
    "    'prix_clean.adresse, moyenne_natio.moyenne_nationale '\n",
    "    ).cache().createOrReplaceTempView('prix_clean')"
   ]
  },
  {
   "cell_type": "code",
   "execution_count": 27,
   "metadata": {},
   "outputs": [
    {
     "name": "stdout",
     "output_type": "stream",
     "text": [
      "+----------+-----------+-------------------+-----+----+-------+----+-----------------+-----+---------+--------------------+------------------+\n",
      "|id_station|code_postal|        date_releve|annee|mois|semaine|jour|libelle_carburant| prix|id_unique|             adresse| moyenne_nationale|\n",
      "+----------+-----------+-------------------+-----+----+-------+----+-----------------+-----+---------+--------------------+------------------+\n",
      "|   3360001|       3360|2015-10-16 11:10:13| 2015|  10|     42|  16|              E10| 1.27|  3360001|rue du pavéAINAY-...|1.2869536907100756|\n",
      "|   9110002|       9110|2015-01-30 09:01:44| 2015|   1|      5|  30|           Gazole|1.119|  9110002|10/13 Allée du bo...|1.1128577850429098|\n",
      "|   9190002|       9190|2015-07-03 11:07:51| 2015|   7|     27|   3|             SP98|1.423|  9190002|Le Pont du BaupSA...| 1.469680276517607|\n",
      "|  12100004|      12100|2015-03-16 08:03:07| 2015|   3|     12|  16|             SP98|1.399| 12100004|AVENUE DU PONT LE...|1.4401337987201852|\n",
      "|  13005012|      13005|2015-07-15 06:07:00| 2015|   7|     29|  15|              E10|1.516| 13005012|103 BOULEVARD SAK...|1.4446931297709933|\n",
      "|  13008016|      13008|2015-09-19 00:09:00| 2015|   9|     38|  19|           Gazole|1.179| 13008016|35/37 BOULEVARD R...|1.1215170842824598|\n",
      "|  13013003|      13013|2015-10-07 06:10:00| 2015|  10|     41|   7|              E10|1.314| 13013003|12 Avenue Jean-Pa...|1.2959171947613015|\n",
      "|  13100016|      13100|2015-06-06 00:06:00| 2015|   6|     23|   6|              E10|1.392| 13100016|16 ROUTE DE GALIC...| 1.442182549767048|\n",
      "|  13100016|      13100|2015-06-27 00:06:00| 2015|   6|     26|  27|              E10|1.395| 13100016|16 ROUTE DE GALIC...|1.4418092399403872|\n",
      "|  14970001|      14970|2015-06-10 08:06:44| 2015|   6|     24|  10|             SP98|1.479| 14970001|AVENUE DE CAENBEN...|1.5063562068965515|\n",
      "|  16100001|      16100|2015-02-14 09:02:55| 2015|   2|      7|  14|             SP95| 1.28| 16100001|40 rue de l'Annis...|1.3455827402135239|\n",
      "|  16150004|      16150|2015-04-28 06:04:00| 2015|   4|     18|  28|           Gazole| 1.27| 16150004|     Rn 141CHABANAIS| 1.245862117981521|\n",
      "|  17500003|      17500|2015-11-27 10:11:52| 2015|  11|     48|  27|              E10|1.208| 17500003|3 Avenue Faidherb...|  1.28297147766323|\n",
      "|  18250002|      18250|2015-10-26 15:10:00| 2015|  10|     44|  26|           Gazole|1.086| 18250002| Rue de VerdunHEN...| 1.096617759562842|\n",
      "|  21200002|      21200|2015-10-20 06:10:00| 2015|  10|     43|  20|           Gazole|1.169| 21200002|AV DU GENERAL DE ...|1.1112295276525044|\n",
      "|  24107001|      24100|2015-06-07 07:06:11| 2015|   6|     23|   7|             SP98|1.444| 24107001|101, Avenue Paste...|1.5226147757255935|\n",
      "|  24660003|      24660|2015-09-22 12:09:13| 2015|   9|     39|  22|             SP98|1.343| 24660003| Avenue Winston C...| 1.361926180514047|\n",
      "|  25700002|      25700|2015-04-23 14:04:28| 2015|   4|     17|  23|           Gazole|1.199| 25700002|940, Rue de Montb...|1.2395222437137332|\n",
      "|  26110003|      26110|2015-06-13 19:06:00| 2015|   6|     24|  13|             SP98|1.485| 26110003|Route d' OrangeNYONS|1.5152897125567324|\n",
      "|  33270001|      33270|2015-09-10 08:09:00| 2015|   9|     37|  10|             SP98|1.319| 33270001|rue de l'esplanad...|1.3807859498680741|\n",
      "+----------+-----------+-------------------+-----+----+-------+----+-----------------+-----+---------+--------------------+------------------+\n",
      "only showing top 20 rows\n",
      "\n"
     ]
    }
   ],
   "source": [
    "spark.sql(\n",
    "    'SELECT * '\n",
    "    'FROM prix_clean '\n",
    "    ).show(20)"
   ]
  },
  {
   "cell_type": "markdown",
   "metadata": {},
   "source": [
    "> We can build an index_price thanks to this national price mean per gas."
   ]
  },
  {
   "cell_type": "code",
   "execution_count": 28,
   "metadata": {
    "collapsed": true
   },
   "outputs": [],
   "source": [
    "spark.sql(\n",
    "    'SELECT *, 100*(1 + (prix - moyenne_nationale)/moyenne_nationale) as index_prix '\n",
    "    'FROM prix_clean '\n",
    "    'ORDER BY id_unique, date_releve '\n",
    "    ).cache().createOrReplaceTempView('prix_clean')"
   ]
  },
  {
   "cell_type": "code",
   "execution_count": 29,
   "metadata": {},
   "outputs": [
    {
     "name": "stdout",
     "output_type": "stream",
     "text": [
      "+----------+-----------+-------------------+-----+----+-------+----+-----------------+-----+---------+--------------------+------------------+------------------+\n",
      "|id_station|code_postal|        date_releve|annee|mois|semaine|jour|libelle_carburant| prix|id_unique|             adresse| moyenne_nationale|        index_prix|\n",
      "+----------+-----------+-------------------+-----+----+-------+----+-----------------+-----+---------+--------------------+------------------+------------------+\n",
      "|   1000001|       1000|2015-01-02 11:01:45| 2015|   1|      1|   2|           Gazole|1.141|  1000001|596 AVENUE DE TRE...|1.1329152334152335|100.71362502209406|\n",
      "|   1000001|       1000|2015-01-02 11:01:45| 2015|   1|      1|   2|             SP95|1.311|  1000001|596 AVENUE DE TRE...|1.2946060482223138|101.26632745152067|\n",
      "|   1000001|       1000|2015-01-02 11:01:46| 2015|   1|      1|   2|             SP98|1.327|  1000001|596 AVENUE DE TRE...|1.3482048079925064| 98.42718199291392|\n",
      "|   1000001|       1000|2015-01-03 09:01:42| 2015|   1|      1|   3|             SP98|1.327|  1000001|596 AVENUE DE TRE...|1.3477750342935528| 98.45856810187598|\n",
      "|   1000001|       1000|2015-01-03 09:01:42| 2015|   1|      1|   3|           Gazole|1.141|  1000001|596 AVENUE DE TRE...|1.1349607996863975|100.53210651110341|\n",
      "|   1000001|       1000|2015-01-03 09:01:42| 2015|   1|      1|   3|             SP95|1.311|  1000001|596 AVENUE DE TRE...|1.2921892307692304|101.45572867989092|\n",
      "|   1000001|       1000|2015-01-07 10:01:44| 2015|   1|      2|   7|             SP95|1.279|  1000001|596 AVENUE DE TRE...|1.2930775694893335| 98.91131283834015|\n",
      "|   1000001|       1000|2015-01-07 10:01:44| 2015|   1|      2|   7|           Gazole|1.141|  1000001|596 AVENUE DE TRE...|1.1355456468100107|100.48032883621293|\n",
      "|   1000001|       1000|2015-01-07 10:01:45| 2015|   1|      2|   7|             SP98|1.327|  1000001|596 AVENUE DE TRE...| 1.342341093665403| 98.85713893899258|\n",
      "|   1000001|       1000|2015-01-08 10:01:06| 2015|   1|      2|   8|             SP98|1.299|  1000001|596 AVENUE DE TRE...| 1.337152329749104| 97.14674768907872|\n",
      "|   1000001|       1000|2015-01-08 10:01:06| 2015|   1|      2|   8|           Gazole|1.115|  1000001|596 AVENUE DE TRE...| 1.129625090122567| 98.70531468799261|\n",
      "|   1000001|       1000|2015-01-08 10:01:06| 2015|   1|      2|   8|             SP95|1.279|  1000001|596 AVENUE DE TRE...| 1.285745557924662| 99.47535825552063|\n",
      "|   1000001|       1000|2015-01-09 10:01:19| 2015|   1|      2|   9|           Gazole|1.115|  1000001|596 AVENUE DE TRE...|1.1214581743469325| 99.42412704328511|\n",
      "|   1000001|       1000|2015-01-09 10:01:19| 2015|   1|      2|   9|             SP95|1.279|  1000001|596 AVENUE DE TRE...| 1.282764674493063| 99.70651869606942|\n",
      "|   1000001|       1000|2015-01-09 10:01:19| 2015|   1|      2|   9|             SP98|1.299|  1000001|596 AVENUE DE TRE...|1.3303845780795343| 97.64093942483613|\n",
      "|   1000001|       1000|2015-01-10 09:01:33| 2015|   1|      2|  10|             SP95|1.269|  1000001|596 AVENUE DE TRE...|1.2807181088314004| 99.08503606292467|\n",
      "|   1000001|       1000|2015-01-10 09:01:33| 2015|   1|      2|  10|             SP98|1.295|  1000001|596 AVENUE DE TRE...|1.3264279766860954| 97.63063074373521|\n",
      "|   1000001|       1000|2015-01-10 09:01:33| 2015|   1|      2|  10|           Gazole|1.099|  1000001|596 AVENUE DE TRE...|1.1178787266296113| 98.31120083244357|\n",
      "|   1000001|       1000|2015-01-14 09:01:23| 2015|   1|      3|  14|           Gazole|1.088|  1000001|596 AVENUE DE TRE...|1.1143498766109128| 97.63540364081604|\n",
      "|   1000001|       1000|2015-01-14 09:01:23| 2015|   1|      3|  14|             SP95|1.269|  1000001|596 AVENUE DE TRE...|1.2784167160640185| 99.26340793688847|\n",
      "+----------+-----------+-------------------+-----+----+-------+----+-----------------+-----+---------+--------------------+------------------+------------------+\n",
      "only showing top 20 rows\n",
      "\n"
     ]
    }
   ],
   "source": [
    "spark.sql(\n",
    "    'SELECT * '\n",
    "    'FROM prix_clean '\n",
    "    'ORDER BY id_unique, date_releve '\n",
    "    ).show(20)"
   ]
  },
  {
   "cell_type": "markdown",
   "metadata": {},
   "source": [
    "## Data Visualization (1/2)\n",
    "\n",
    "> We only keep needed variables."
   ]
  },
  {
   "cell_type": "code",
   "execution_count": 30,
   "metadata": {
    "collapsed": true
   },
   "outputs": [],
   "source": [
    "prix_natio_df = spark.sql(\n",
    "    'SELECT DISTINCT libelle_carburant, date(date_releve) as date, moyenne_nationale '\n",
    "    'FROM prix_clean '\n",
    "    'ORDER BY date, libelle_carburant '\n",
    ").toPandas() "
   ]
  },
  {
   "cell_type": "code",
   "execution_count": 31,
   "metadata": {},
   "outputs": [
    {
     "data": {
      "text/html": [
       "<div>\n",
       "<style scoped>\n",
       "    .dataframe tbody tr th:only-of-type {\n",
       "        vertical-align: middle;\n",
       "    }\n",
       "\n",
       "    .dataframe tbody tr th {\n",
       "        vertical-align: top;\n",
       "    }\n",
       "\n",
       "    .dataframe thead th {\n",
       "        text-align: right;\n",
       "    }\n",
       "</style>\n",
       "<table border=\"1\" class=\"dataframe\">\n",
       "  <thead>\n",
       "    <tr style=\"text-align: right;\">\n",
       "      <th></th>\n",
       "      <th>libelle_carburant</th>\n",
       "      <th>date</th>\n",
       "      <th>moyenne_nationale</th>\n",
       "    </tr>\n",
       "  </thead>\n",
       "  <tbody>\n",
       "    <tr>\n",
       "      <th>0</th>\n",
       "      <td>E10</td>\n",
       "      <td>2015-01-01</td>\n",
       "      <td>1.355553</td>\n",
       "    </tr>\n",
       "    <tr>\n",
       "      <th>1</th>\n",
       "      <td>E85</td>\n",
       "      <td>2015-01-01</td>\n",
       "      <td>0.937842</td>\n",
       "    </tr>\n",
       "    <tr>\n",
       "      <th>2</th>\n",
       "      <td>GPLc</td>\n",
       "      <td>2015-01-01</td>\n",
       "      <td>0.907946</td>\n",
       "    </tr>\n",
       "    <tr>\n",
       "      <th>3</th>\n",
       "      <td>Gazole</td>\n",
       "      <td>2015-01-01</td>\n",
       "      <td>1.202779</td>\n",
       "    </tr>\n",
       "    <tr>\n",
       "      <th>4</th>\n",
       "      <td>SP95</td>\n",
       "      <td>2015-01-01</td>\n",
       "      <td>1.353990</td>\n",
       "    </tr>\n",
       "  </tbody>\n",
       "</table>\n",
       "</div>"
      ],
      "text/plain": [
       "  libelle_carburant        date  moyenne_nationale\n",
       "0               E10  2015-01-01           1.355553\n",
       "1               E85  2015-01-01           0.937842\n",
       "2              GPLc  2015-01-01           0.907946\n",
       "3            Gazole  2015-01-01           1.202779\n",
       "4              SP95  2015-01-01           1.353990"
      ]
     },
     "execution_count": 31,
     "metadata": {},
     "output_type": "execute_result"
    }
   ],
   "source": [
    "prix_natio_df.head()"
   ]
  },
  {
   "cell_type": "code",
   "execution_count": 32,
   "metadata": {},
   "outputs": [
    {
     "data": {
      "text/plain": [
       "Text(0.5,0.98,'Evolution of average gas price over France')"
      ]
     },
     "execution_count": 32,
     "metadata": {},
     "output_type": "execute_result"
    },
    {
     "data": {
      "image/png": "[encoded data removed]",
      "text/plain": [
       "<matplotlib.figure.Figure at 0x1a0fed8470>"
      ]
     },
     "metadata": {},
     "output_type": "display_data"
    }
   ],
   "source": [
    "graph = sns.FacetGrid(prix_natio_df.sort_values(by=['libelle_carburant','date']), hue='libelle_carburant', size=7, aspect=16/9, palette=\"muted\")\n",
    "graph.map(plt.plot, \"date\", \"moyenne_nationale\")\n",
    "graph.add_legend()\n",
    "graph.set_axis_labels(\"Day\", \"Mean of Price (€)\")\n",
    "graph.fig.suptitle('Evolution of average gas price over France', size=16)"
   ]
  },
  {
   "cell_type": "markdown",
   "metadata": {},
   "source": [
    "So we can observe that...."
   ]
  },
  {
   "cell_type": "markdown",
   "metadata": {},
   "source": [
    "## Data Visualization (2/2)"
   ]
  },
  {
   "cell_type": "markdown",
   "metadata": {},
   "source": [
    "> Let's compute average price index per gas type over departments.\n",
    "\n",
    "I decide to divide by 1000 all post code except the 97 one's which are devide by 100 for instance for Réunion"
   ]
  },
  {
   "cell_type": "code",
   "execution_count": 65,
   "metadata": {
    "collapsed": true
   },
   "outputs": [],
   "source": [
    "spark.sql(\n",
    "    'SELECT libelle_carburant, '\n",
    "    'CASE WHEN code_postal<97000 then int(ROUND(code_postal / 1000, 0)) '\n",
    "    'ELSE int(ROUND(code_postal / 100, 0)) END as dep, '\n",
    "    'ROUND(avg(index_prix),3) as average_index_price '\n",
    "    'FROM prix_clean '\n",
    "    'GROUP BY dep, libelle_carburant '\n",
    "    'ORDER BY dep'\n",
    "    ).cache().createOrReplaceTempView('index_prix_dep')"
   ]
  },
  {
   "cell_type": "code",
   "execution_count": 66,
   "metadata": {},
   "outputs": [
    {
     "name": "stdout",
     "output_type": "stream",
     "text": [
      "+-----------------+---+-------------------+\n",
      "|libelle_carburant|dep|average_index_price|\n",
      "+-----------------+---+-------------------+\n",
      "|              E85|  1|            108.189|\n",
      "|           Gazole|  1|            100.918|\n",
      "|             GPLc|  1|             109.63|\n",
      "|              E10|  1|            100.812|\n",
      "|             SP95|  1|             99.582|\n",
      "|             SP98|  1|            100.377|\n",
      "|             SP98|  2|             98.923|\n",
      "|              E10|  2|             99.141|\n",
      "|           Gazole|  2|             98.681|\n",
      "|             GPLc|  2|            100.316|\n",
      "|             SP95|  2|             99.187|\n",
      "|              E85|  2|             94.442|\n",
      "|              E10|  3|            100.625|\n",
      "|             SP98|  3|            101.106|\n",
      "|              E85|  3|             90.369|\n",
      "|             SP95|  3|            100.417|\n",
      "|           Gazole|  3|            101.001|\n",
      "|             GPLc|  3|            104.687|\n",
      "|             SP95|  4|            100.798|\n",
      "|             GPLc|  4|             100.82|\n",
      "+-----------------+---+-------------------+\n",
      "only showing top 20 rows\n",
      "\n"
     ]
    }
   ],
   "source": [
    "spark.sql(\n",
    "    'SELECT * '\n",
    "    'FROM index_prix_dep '\n",
    "    ).show(20)"
   ]
  },
  {
   "cell_type": "code",
   "execution_count": 68,
   "metadata": {},
   "outputs": [
    {
     "data": {
      "text/html": [
       "<div>\n",
       "<style scoped>\n",
       "    .dataframe tbody tr th:only-of-type {\n",
       "        vertical-align: middle;\n",
       "    }\n",
       "\n",
       "    .dataframe tbody tr th {\n",
       "        vertical-align: top;\n",
       "    }\n",
       "\n",
       "    .dataframe thead th {\n",
       "        text-align: right;\n",
       "    }\n",
       "</style>\n",
       "<table border=\"1\" class=\"dataframe\">\n",
       "  <thead>\n",
       "    <tr style=\"text-align: right;\">\n",
       "      <th></th>\n",
       "      <th>libelle_carburant</th>\n",
       "      <th>dep</th>\n",
       "      <th>average_index_price</th>\n",
       "    </tr>\n",
       "  </thead>\n",
       "  <tbody>\n",
       "    <tr>\n",
       "      <th>0</th>\n",
       "      <td>E85</td>\n",
       "      <td>1</td>\n",
       "      <td>108.189</td>\n",
       "    </tr>\n",
       "    <tr>\n",
       "      <th>1</th>\n",
       "      <td>Gazole</td>\n",
       "      <td>1</td>\n",
       "      <td>100.918</td>\n",
       "    </tr>\n",
       "    <tr>\n",
       "      <th>2</th>\n",
       "      <td>GPLc</td>\n",
       "      <td>1</td>\n",
       "      <td>109.630</td>\n",
       "    </tr>\n",
       "    <tr>\n",
       "      <th>3</th>\n",
       "      <td>E10</td>\n",
       "      <td>1</td>\n",
       "      <td>100.812</td>\n",
       "    </tr>\n",
       "    <tr>\n",
       "      <th>4</th>\n",
       "      <td>SP95</td>\n",
       "      <td>1</td>\n",
       "      <td>99.582</td>\n",
       "    </tr>\n",
       "    <tr>\n",
       "      <th>5</th>\n",
       "      <td>SP98</td>\n",
       "      <td>1</td>\n",
       "      <td>100.377</td>\n",
       "    </tr>\n",
       "    <tr>\n",
       "      <th>6</th>\n",
       "      <td>SP98</td>\n",
       "      <td>2</td>\n",
       "      <td>98.923</td>\n",
       "    </tr>\n",
       "    <tr>\n",
       "      <th>7</th>\n",
       "      <td>E10</td>\n",
       "      <td>2</td>\n",
       "      <td>99.141</td>\n",
       "    </tr>\n",
       "    <tr>\n",
       "      <th>8</th>\n",
       "      <td>Gazole</td>\n",
       "      <td>2</td>\n",
       "      <td>98.681</td>\n",
       "    </tr>\n",
       "    <tr>\n",
       "      <th>9</th>\n",
       "      <td>GPLc</td>\n",
       "      <td>2</td>\n",
       "      <td>100.316</td>\n",
       "    </tr>\n",
       "    <tr>\n",
       "      <th>10</th>\n",
       "      <td>SP95</td>\n",
       "      <td>2</td>\n",
       "      <td>99.187</td>\n",
       "    </tr>\n",
       "    <tr>\n",
       "      <th>11</th>\n",
       "      <td>E85</td>\n",
       "      <td>2</td>\n",
       "      <td>94.442</td>\n",
       "    </tr>\n",
       "    <tr>\n",
       "      <th>12</th>\n",
       "      <td>E10</td>\n",
       "      <td>3</td>\n",
       "      <td>100.625</td>\n",
       "    </tr>\n",
       "    <tr>\n",
       "      <th>13</th>\n",
       "      <td>SP98</td>\n",
       "      <td>3</td>\n",
       "      <td>101.106</td>\n",
       "    </tr>\n",
       "    <tr>\n",
       "      <th>14</th>\n",
       "      <td>E85</td>\n",
       "      <td>3</td>\n",
       "      <td>90.369</td>\n",
       "    </tr>\n",
       "  </tbody>\n",
       "</table>\n",
       "</div>"
      ],
      "text/plain": [
       "   libelle_carburant  dep  average_index_price\n",
       "0                E85    1              108.189\n",
       "1             Gazole    1              100.918\n",
       "2               GPLc    1              109.630\n",
       "3                E10    1              100.812\n",
       "4               SP95    1               99.582\n",
       "5               SP98    1              100.377\n",
       "6               SP98    2               98.923\n",
       "7                E10    2               99.141\n",
       "8             Gazole    2               98.681\n",
       "9               GPLc    2              100.316\n",
       "10              SP95    2               99.187\n",
       "11               E85    2               94.442\n",
       "12               E10    3              100.625\n",
       "13              SP98    3              101.106\n",
       "14               E85    3               90.369"
      ]
     },
     "execution_count": 68,
     "metadata": {},
     "output_type": "execute_result"
    }
   ],
   "source": [
    "prix_dep_df = spark.sql(\n",
    "    'SELECT * '\n",
    "    'FROM index_prix_dep '\n",
    "    'ORDER BY dep '\n",
    "    ).toPandas()\n",
    "prix_dep_df.head(15)"
   ]
  },
  {
   "cell_type": "markdown",
   "metadata": {},
   "source": [
    "> We can build one table per gas type in order to build, in fine, 6 maps (one for each gas type)."
   ]
  },
  {
   "cell_type": "code",
   "execution_count": 69,
   "metadata": {
    "collapsed": true
   },
   "outputs": [],
   "source": [
    "prix_dep_df_E85 = prix_dep_df[ prix_dep_df[\"libelle_carburant\"]=='E85'].set_index(\"dep\", drop=True)\n",
    "prix_dep_df_E85 = prix_dep_df_E85.drop(\"libelle_carburant\", axis=1)\n",
    "dict_prix_dep_E85 = prix_dep_df_E85.T.to_dict(orient=\"index\")\n",
    "\n",
    "prix_dep_df_Gazole = prix_dep_df[ prix_dep_df[\"libelle_carburant\"]=='Gazole'].set_index(\"dep\", drop=True)\n",
    "prix_dep_df_Gazole = prix_dep_df_Gazole.drop(\"libelle_carburant\", axis=1)\n",
    "dict_prix_dep_Gazole = prix_dep_df_Gazole.T.to_dict(orient=\"index\")\n",
    "\n",
    "prix_dep_df_GPLc = prix_dep_df[ prix_dep_df[\"libelle_carburant\"]=='GPLc'].set_index(\"dep\", drop=True)\n",
    "prix_dep_df_GPLc = prix_dep_df_GPLc.drop(\"libelle_carburant\", axis=1)\n",
    "dict_prix_dep_GPLc = prix_dep_df_GPLc.T.to_dict(orient=\"index\")\n",
    "\n",
    "prix_dep_df_E10 = prix_dep_df[ prix_dep_df[\"libelle_carburant\"]=='E10'].set_index(\"dep\", drop=True)\n",
    "prix_dep_df_E10 = prix_dep_df_E10.drop(\"libelle_carburant\", axis=1)\n",
    "dict_prix_dep_E10 = prix_dep_df_E10.T.to_dict(orient=\"index\")\n",
    "\n",
    "prix_dep_df_SP95 = prix_dep_df[ prix_dep_df[\"libelle_carburant\"]=='SP95'].set_index(\"dep\", drop=True)\n",
    "prix_dep_df_SP95 = prix_dep_df_SP95.drop(\"libelle_carburant\", axis=1)\n",
    "dict_prix_dep_SP95 = prix_dep_df_SP95.T.to_dict(orient=\"index\")\n",
    "\n",
    "prix_dep_df_SP98 = prix_dep_df[ prix_dep_df[\"libelle_carburant\"]=='SP98'].set_index(\"dep\", drop=True)\n",
    "prix_dep_df_SP98 = prix_dep_df_SP98.drop(\"libelle_carburant\", axis=1)\n",
    "dict_prix_dep_SP98 = prix_dep_df_SP98.T.to_dict(orient=\"index\")"
   ]
  },
  {
   "cell_type": "markdown",
   "metadata": {},
   "source": [
    "> Represent France department average price index heatmaps for each gas type\n",
    "\n",
    "\n",
    "The render is not possible directly in the notebook."
   ]
  },
  {
   "cell_type": "code",
   "execution_count": 37,
   "metadata": {
    "collapsed": true
   },
   "outputs": [],
   "source": [
    "import pygal.maps.fr"
   ]
  },
  {
   "cell_type": "code",
   "execution_count": 71,
   "metadata": {},
   "outputs": [
    {
     "name": "stdout",
     "output_type": "stream",
     "text": [
      "file:///var/folders/8v/9mjtm7gj2kzcxf_w3tnrqjbm0000gp/T/tmp22x4hr38.html\n"
     ]
    }
   ],
   "source": [
    "fr_chart = pygal.maps.fr.Departments(human_readable=True)\n",
    "fr_chart.title = 'Department average price index for Gazole'\n",
    "fr_chart.add('Gazole', dict_prix_dep_Gazole['average_index_price'])\n",
    "fr_chart.render_in_browser()"
   ]
  },
  {
   "cell_type": "markdown",
   "metadata": {},
   "source": [
    "![Gazole](Gazole.png)"
   ]
  },
  {
   "cell_type": "code",
   "execution_count": 72,
   "metadata": {},
   "outputs": [
    {
     "name": "stdout",
     "output_type": "stream",
     "text": [
      "file:///var/folders/8v/9mjtm7gj2kzcxf_w3tnrqjbm0000gp/T/tmp01i92bsr.html\n"
     ]
    }
   ],
   "source": [
    "fr_chart = pygal.maps.fr.Departments(human_readable=True)\n",
    "fr_chart.title = 'Department average price index for E85'\n",
    "fr_chart.add('E85', dict_prix_dep_E85['average_index_price'])\n",
    "fr_chart.render_in_browser()"
   ]
  },
  {
   "cell_type": "markdown",
   "metadata": {},
   "source": [
    "![E85](E85.png)"
   ]
  },
  {
   "cell_type": "code",
   "execution_count": 73,
   "metadata": {},
   "outputs": [
    {
     "name": "stdout",
     "output_type": "stream",
     "text": [
      "file:///var/folders/8v/9mjtm7gj2kzcxf_w3tnrqjbm0000gp/T/tmpcjebp3pk.html\n"
     ]
    }
   ],
   "source": [
    "fr_chart = pygal.maps.fr.Departments(human_readable=True)\n",
    "fr_chart.title = 'Department average price index for SP95'\n",
    "fr_chart.add('SP95', dict_prix_dep_SP95['average_index_price'])\n",
    "fr_chart.render_in_browser()"
   ]
  },
  {
   "cell_type": "markdown",
   "metadata": {},
   "source": [
    "![SP95](SP95.png)"
   ]
  },
  {
   "cell_type": "code",
   "execution_count": 74,
   "metadata": {},
   "outputs": [
    {
     "name": "stdout",
     "output_type": "stream",
     "text": [
      "file:///var/folders/8v/9mjtm7gj2kzcxf_w3tnrqjbm0000gp/T/tmp8kko9cpv.html\n"
     ]
    }
   ],
   "source": [
    "fr_chart = pygal.maps.fr.Departments(human_readable=True)\n",
    "fr_chart.title = 'Department average price index for SP98'\n",
    "fr_chart.add('SP98', dict_prix_dep_SP98['average_index_price'])\n",
    "fr_chart.render_in_browser()"
   ]
  },
  {
   "cell_type": "markdown",
   "metadata": {},
   "source": [
    "![SP98](SP98.png)"
   ]
  },
  {
   "cell_type": "code",
   "execution_count": 75,
   "metadata": {},
   "outputs": [
    {
     "name": "stdout",
     "output_type": "stream",
     "text": [
      "file:///var/folders/8v/9mjtm7gj2kzcxf_w3tnrqjbm0000gp/T/tmpi5qndelk.html\n"
     ]
    }
   ],
   "source": [
    "fr_chart = pygal.maps.fr.Departments(human_readable=True)\n",
    "fr_chart.title = 'Department average price index for E10'\n",
    "fr_chart.add('E10', dict_prix_dep_E10['average_index_price'])\n",
    "fr_chart.render_in_browser()"
   ]
  },
  {
   "cell_type": "markdown",
   "metadata": {},
   "source": [
    "![E10](E10.png)"
   ]
  },
  {
   "cell_type": "code",
   "execution_count": 76,
   "metadata": {},
   "outputs": [
    {
     "name": "stdout",
     "output_type": "stream",
     "text": [
      "file:///var/folders/8v/9mjtm7gj2kzcxf_w3tnrqjbm0000gp/T/tmpwjpocfws.html\n"
     ]
    }
   ],
   "source": [
    "fr_chart = pygal.maps.fr.Departments(human_readable=True)\n",
    "fr_chart.title = 'Department average price index for GPLc'\n",
    "fr_chart.add('GPLc', dict_prix_dep_GPLc['average_index_price'])\n",
    "fr_chart.render_in_browser()"
   ]
  },
  {
   "cell_type": "markdown",
   "metadata": {},
   "source": [
    "![GPLc](GPLc.png)"
   ]
  },
  {
   "cell_type": "markdown",
   "metadata": {},
   "source": [
    "## Modeling 1 – Option 1 – Forecast next day price"
   ]
  },
  {
   "cell_type": "markdown",
   "metadata": {},
   "source": [
    "- Build a model based on Spark MLlib to forecast the next day price **for a gas type in a station**\n",
    "- Do NOT consider using time series models (such as AR/ARMA/ARIMA) but rely on existing techniques from Spark MLlib such as LinearRegression, RandomForestRegressor, etc.\n",
    "- Provide **relevant accuracy measures** and a **relevant dispersion plot between actual & forecast**\n",
    "\n",
    "\n",
    "- *Hints: consider using lag features (such as price of the day before, and the day before, etc.) to build the model*\n",
    "- *Important Notice: we do not expect model fine tuning, but more a working pipeline*"
   ]
  },
  {
   "cell_type": "code",
   "execution_count": 44,
   "metadata": {
    "collapsed": true
   },
   "outputs": [],
   "source": [
    "from pyspark.ml.regression import LinearRegression\n",
    "from pyspark.ml import Pipeline\n",
    "from pyspark.sql.functions import *\n",
    "from pyspark.ml.feature import * "
   ]
  },
  {
   "cell_type": "markdown",
   "metadata": {},
   "source": [
    "> Test our modelisation on 1 Station (1000001) for 1 gas type (Gazole)\n",
    "\n",
    "I build until 8 days of lag"
   ]
  },
  {
   "cell_type": "code",
   "execution_count": 45,
   "metadata": {},
   "outputs": [],
   "source": [
    "prix_reg_test = spark.sql(\n",
    "    'SELECT id_unique, date(date_releve) as date, libelle_carburant, prix, LAG(prix,1) OVER (ORDER BY id_unique, libelle_carburant, date(date_releve) ) AS prix_1, LAG(prix,2) OVER (ORDER BY id_unique, libelle_carburant, date(date_releve)) AS prix_2, '\n",
    "    'LAG(prix,3) OVER (ORDER BY id_unique, libelle_carburant, date(date_releve) ) AS prix_3, LAG(prix,4) OVER (ORDER BY id_unique, libelle_carburant, date(date_releve) ) AS prix_4, '\n",
    "    'LAG(prix,5) OVER (ORDER BY id_unique, libelle_carburant, date(date_releve) ) AS prix_5, LAG(prix,6) OVER (ORDER BY id_unique, libelle_carburant, date(date_releve) ) AS prix_6, '\n",
    "    'LAG(prix,7) OVER (ORDER BY id_unique, libelle_carburant,date(date_releve)) AS prix_7, LAG(prix,8) OVER (ORDER BY id_unique, libelle_carburant,date(date_releve)) AS prix_8 '\n",
    "    'FROM prix_clean '\n",
    "    'WHERE id_unique = 1000001 AND libelle_carburant = \"Gazole\" '\n",
    "    'ORDER BY libelle_carburant, date(date_releve)'\n",
    "    )"
   ]
  },
  {
   "cell_type": "code",
   "execution_count": 46,
   "metadata": {},
   "outputs": [
    {
     "name": "stdout",
     "output_type": "stream",
     "text": [
      "+---------+----------+-----------------+-----+------+------+------+------+------+------+------+------+\n",
      "|id_unique|      date|libelle_carburant| prix|prix_1|prix_2|prix_3|prix_4|prix_5|prix_6|prix_7|prix_8|\n",
      "+---------+----------+-----------------+-----+------+------+------+------+------+------+------+------+\n",
      "|  1000001|2015-01-02|           Gazole|1.141|  null|  null|  null|  null|  null|  null|  null|  null|\n",
      "|  1000001|2015-01-03|           Gazole|1.141| 1.141|  null|  null|  null|  null|  null|  null|  null|\n",
      "|  1000001|2015-01-07|           Gazole|1.141| 1.141| 1.141|  null|  null|  null|  null|  null|  null|\n",
      "|  1000001|2015-01-08|           Gazole|1.115| 1.141| 1.141| 1.141|  null|  null|  null|  null|  null|\n",
      "|  1000001|2015-01-09|           Gazole|1.115| 1.115| 1.141| 1.141| 1.141|  null|  null|  null|  null|\n",
      "|  1000001|2015-01-10|           Gazole|1.099| 1.115| 1.115| 1.141| 1.141| 1.141|  null|  null|  null|\n",
      "|  1000001|2015-01-14|           Gazole|1.088| 1.099| 1.115| 1.115| 1.141| 1.141| 1.141|  null|  null|\n",
      "|  1000001|2015-01-16|           Gazole|1.074| 1.088| 1.099| 1.115| 1.115| 1.141| 1.141| 1.141|  null|\n",
      "|  1000001|2015-01-24|           Gazole|1.074| 1.074| 1.088| 1.099| 1.115| 1.115| 1.141| 1.141| 1.141|\n",
      "|  1000001|2015-01-27|           Gazole|1.088| 1.074| 1.074| 1.088| 1.099| 1.115| 1.115| 1.141| 1.141|\n",
      "+---------+----------+-----------------+-----+------+------+------+------+------+------+------+------+\n",
      "only showing top 10 rows\n",
      "\n"
     ]
    }
   ],
   "source": [
    "prix_reg_test.show(10)"
   ]
  },
  {
   "cell_type": "code",
   "execution_count": 47,
   "metadata": {},
   "outputs": [],
   "source": [
    "prix_reg_test = prix_reg_test.dropna()"
   ]
  },
  {
   "cell_type": "code",
   "execution_count": 48,
   "metadata": {},
   "outputs": [
    {
     "name": "stdout",
     "output_type": "stream",
     "text": [
      "+---------+----------+-----------------+-----+------+------+------+------+------+------+------+------+\n",
      "|id_unique|      date|libelle_carburant| prix|prix_1|prix_2|prix_3|prix_4|prix_5|prix_6|prix_7|prix_8|\n",
      "+---------+----------+-----------------+-----+------+------+------+------+------+------+------+------+\n",
      "|  1000001|2015-01-24|           Gazole|1.074| 1.074| 1.088| 1.099| 1.115| 1.115| 1.141| 1.141| 1.141|\n",
      "|  1000001|2015-01-27|           Gazole|1.088| 1.074| 1.074| 1.088| 1.099| 1.115| 1.115| 1.141| 1.141|\n",
      "|  1000001|2015-01-28|           Gazole|1.088| 1.088| 1.074| 1.074| 1.088| 1.099| 1.115| 1.115| 1.141|\n",
      "|  1000001|2015-01-30|           Gazole|1.095| 1.088| 1.088| 1.074| 1.074| 1.088| 1.099| 1.115| 1.115|\n",
      "|  1000001|2015-01-31|           Gazole|1.095| 1.095| 1.088| 1.088| 1.074| 1.074| 1.088| 1.099| 1.115|\n",
      "|  1000001|2015-02-02|           Gazole|1.095| 1.095| 1.095| 1.088| 1.088| 1.074| 1.074| 1.088| 1.099|\n",
      "|  1000001|2015-02-03|           Gazole|1.095| 1.095| 1.095| 1.095| 1.088| 1.088| 1.074| 1.074| 1.088|\n",
      "|  1000001|2015-02-04|           Gazole|1.109| 1.095| 1.095| 1.095| 1.095| 1.088| 1.088| 1.074| 1.074|\n",
      "|  1000001|2015-02-05|           Gazole|1.109| 1.109| 1.095| 1.095| 1.095| 1.095| 1.088| 1.088| 1.074|\n",
      "|  1000001|2015-02-05|           Gazole|1.119| 1.109| 1.109| 1.095| 1.095| 1.095| 1.095| 1.088| 1.088|\n",
      "+---------+----------+-----------------+-----+------+------+------+------+------+------+------+------+\n",
      "only showing top 10 rows\n",
      "\n"
     ]
    }
   ],
   "source": [
    "prix_reg_test.show(10)"
   ]
  },
  {
   "cell_type": "code",
   "execution_count": 49,
   "metadata": {},
   "outputs": [
    {
     "name": "stdout",
     "output_type": "stream",
     "text": [
      "+--------------------+-----+----------+\n",
      "|            features| prix|      date|\n",
      "+--------------------+-----+----------+\n",
      "|[1.074,1.088,1.09...|1.074|2015-01-24|\n",
      "|[1.074,1.074,1.08...|1.088|2015-01-27|\n",
      "|[1.088,1.074,1.07...|1.088|2015-01-28|\n",
      "|[1.088,1.088,1.07...|1.095|2015-01-30|\n",
      "|[1.095,1.088,1.08...|1.095|2015-01-31|\n",
      "|[1.095,1.095,1.08...|1.095|2015-02-02|\n",
      "|[1.095,1.095,1.09...|1.095|2015-02-03|\n",
      "|[1.095,1.095,1.09...|1.109|2015-02-04|\n",
      "|[1.109,1.095,1.09...|1.109|2015-02-05|\n",
      "|[1.109,1.109,1.09...|1.119|2015-02-05|\n",
      "+--------------------+-----+----------+\n",
      "only showing top 10 rows\n",
      "\n"
     ]
    }
   ],
   "source": [
    "vectorAssembler = VectorAssembler(inputCols = [\"prix_1\", \"prix_2\", \"prix_3\", \"prix_4\", \"prix_5\", \"prix_6\", \"prix_7\",\"prix_8\"], outputCol = 'features')\n",
    "vprix_reg_test = vectorAssembler.transform(prix_reg_test)\n",
    "vprix_reg_test = vprix_reg_test.select(['features', 'prix', 'date'])\n",
    "vprix_reg_test.show(10)"
   ]
  },
  {
   "cell_type": "markdown",
   "metadata": {},
   "source": [
    "> Split in a train and a test sample"
   ]
  },
  {
   "cell_type": "code",
   "execution_count": 50,
   "metadata": {},
   "outputs": [],
   "source": [
    "splits = vprix_reg_test.randomSplit([0.7, 0.3])\n",
    "train_df = splits[0]\n",
    "test_df = splits[1]"
   ]
  },
  {
   "cell_type": "code",
   "execution_count": 51,
   "metadata": {},
   "outputs": [
    {
     "name": "stdout",
     "output_type": "stream",
     "text": [
      "Coefficients: [0.8236703197128765,0.12749201305967459,0.03249213205628196,0.03365504638078969,0.01977877500597721,-0.00497563397539458,-0.02262748149265769,-0.011979308593934973]\n",
      "Intercept: 0.003756370853697244\n"
     ]
    }
   ],
   "source": [
    "from pyspark.ml.regression import LinearRegression\n",
    "lr = LinearRegression(featuresCol = 'features', labelCol='prix')\n",
    "lr_model = lr.fit(train_df)\n",
    "print(\"Coefficients: \" + str(lr_model.coefficients))\n",
    "print(\"Intercept: \" + str(lr_model.intercept))"
   ]
  },
  {
   "cell_type": "code",
   "execution_count": 52,
   "metadata": {},
   "outputs": [
    {
     "name": "stdout",
     "output_type": "stream",
     "text": [
      "RMSE: 0.008813\n",
      "R Squared (R^2) on train sample is : 0.994929\n"
     ]
    }
   ],
   "source": [
    "trainingSummary = lr_model.summary\n",
    "print(\"RMSE: %f\" % trainingSummary.rootMeanSquaredError)\n",
    "print(\"R Squared (R^2) on train sample is : %f\" % trainingSummary.r2)"
   ]
  },
  {
   "cell_type": "code",
   "execution_count": 54,
   "metadata": {},
   "outputs": [
    {
     "name": "stdout",
     "output_type": "stream",
     "text": [
      "+------------------+-----+--------------------+\n",
      "|        prediction| prix|            features|\n",
      "+------------------+-----+--------------------+\n",
      "|0.9793171040399304|0.978|[0.978,0.978,0.97...|\n",
      "|0.9793171040399304|0.978|[0.978,0.978,0.97...|\n",
      "|0.9793171040399304|1.026|[0.978,0.978,0.97...|\n",
      "| 0.980831479847759|0.978|[0.978,0.978,1.00...|\n",
      "|0.9848966333189674|0.978|[0.978,1.008,1.01...|\n",
      "+------------------+-----+--------------------+\n",
      "only showing top 5 rows\n",
      "\n",
      "Coefficient of determination - R Squared (R^2) on test sample is = 0.973953\n",
      "Root Mean Square Error (RMSE) on test sample is = 0.974\n",
      "Mean Square Error (MSE) on test sample is = 0.000\n",
      "Mean Absolute Error (MAE) on test sample is = 0.007\n"
     ]
    }
   ],
   "source": [
    "lr_predictions = lr_model.transform(test_df)\n",
    "lr_predictions.select(\"prediction\",\"prix\",\"features\").show(5)\n",
    "from pyspark.ml.evaluation import RegressionEvaluator\n",
    "lr_evaluator = RegressionEvaluator(predictionCol=\"prediction\", \\\n",
    "                 labelCol=\"prix\",metricName=\"r2\")\n",
    "# r2 - coefficient of determination\n",
    "print(\"Coefficient of determination - R Squared (R^2) on test sample is = %g\" % lr_evaluator.evaluate(lr_predictions))\n",
    "# Root Mean Square Error\n",
    "rmse = lr_evaluator.evaluate(lr_predictions)\n",
    "print(\"Root Mean Square Error (RMSE) on test sample is = %.3f\" % rmse)\n",
    "# Mean Square Error\n",
    "mse = lr_evaluator.evaluate(lr_predictions, {lr_evaluator.metricName: \"mse\"})\n",
    "print(\"Mean Square Error (MSE) on test sample is = %.3f\" % mse)\n",
    "# Mean Absolute Error\n",
    "mae = lr_evaluator.evaluate(lr_predictions, {lr_evaluator.metricName: \"mae\"})\n",
    "print(\"Mean Absolute Error (MAE) on test sample is = %.3f\" % mae)\n"
   ]
  },
  {
   "cell_type": "markdown",
   "metadata": {},
   "source": [
    "There is, obviously, some overfitting !!"
   ]
  },
  {
   "cell_type": "markdown",
   "metadata": {},
   "source": [
    "> Let's make some graphs"
   ]
  },
  {
   "cell_type": "code",
   "execution_count": 55,
   "metadata": {},
   "outputs": [],
   "source": [
    "data_pred = lr_predictions.toPandas() \n",
    "data_pred.head()\n",
    "\n",
    "data_pred.date = pd.DatetimeIndex(data=data_pred.date)"
   ]
  },
  {
   "cell_type": "code",
   "execution_count": 56,
   "metadata": {},
   "outputs": [
    {
     "data": {
      "text/plain": [
       "Text(0.5,1,'Dspersion plot between price & forecast')"
      ]
     },
     "execution_count": 56,
     "metadata": {},
     "output_type": "execute_result"
    },
    {
     "data": {
      "image/png": "[encoded data removed]",
      "text/plain": [
       "<matplotlib.figure.Figure at 0x1a1af82518>"
      ]
     },
     "metadata": {},
     "output_type": "display_data"
    }
   ],
   "source": [
    "from matplotlib import pyplot as plt\n",
    "import seaborn as sns\n",
    "sns.set()\n",
    "plt.figure(figsize=(15,8))\n",
    "#sns.regplot(x='prix',y='prediction', data=data_pred, color='b')\n",
    "sns.scatterplot(x='prix',y='prediction', data=data_pred, color='b')\n",
    "ax = sns.lineplot(x='prix', y='prix', data=data_pred, color='r')\n",
    "ax.set(xlabel='Price', ylabel='Estimation')\n",
    "ax.set_title(\"Dspersion plot between price & forecast\")"
   ]
  },
  {
   "cell_type": "code",
   "execution_count": 80,
   "metadata": {},
   "outputs": [
    {
     "data": {
      "text/plain": [
       "Text(0.5,1,'Evolution plot of predicted and prices')"
      ]
     },
     "execution_count": 80,
     "metadata": {},
     "output_type": "execute_result"
    },
    {
     "data": {
      "image/png": "[encoded data removed]",
      "text/plain": [
       "<matplotlib.figure.Figure at 0x1a1b680eb8>"
      ]
     },
     "metadata": {},
     "output_type": "display_data"
    }
   ],
   "source": [
    "sns.set()\n",
    "plt.figure(figsize=(15,8))\n",
    "ax = sns.lineplot(x='date',y='prediction', data=data_pred, color='b')\n",
    "sns.lineplot(x='date',y='prix', data=data_pred, color='g')\n",
    "ax.set_title(\"Evolution plot of predicted and prices\")"
   ]
  },
  {
   "cell_type": "code",
   "execution_count": null,
   "metadata": {},
   "outputs": [],
   "source": []
  },
  {
   "cell_type": "code",
   "execution_count": null,
   "metadata": {
    "collapsed": true
   },
   "outputs": [],
   "source": []
  },
  {
   "cell_type": "markdown",
   "metadata": {},
   "source": [
    "> **We could try it on the full sample but at this stage, no one output can be shown due to Java heap space problems (java.lang.OutOfMemoryError: Java heap space).**"
   ]
  },
  {
   "cell_type": "code",
   "execution_count": null,
   "metadata": {
    "collapsed": true
   },
   "outputs": [],
   "source": [
    "prix_reg = spark.sql(\n",
    "    'SELECT id_unique, date_releve, libelle_carburant, prix, LAG(prix,1) OVER (ORDER BY id_unique, date(date_releve), libelle_carburant) AS prix_1, LAG(prix,2) OVER (ORDER BY id_unique, date(date_releve), libelle_carburant) AS prix_2, '\n",
    "    'LAG(prix,3) OVER (ORDER BY id_unique, date(date_releve), libelle_carburant) AS prix_3, LAG(prix,4) OVER (ORDER BY id_unique, date(date_releve), libelle_carburant) AS prix_4, '\n",
    "    'LAG(prix,5) OVER (ORDER BY id_unique, date(date_releve), libelle_carburant) AS prix_5, LAG(prix,6) OVER (ORDER BY id_unique, date(date_releve), libelle_carburant) AS prix_6, '\n",
    "    'LAG(prix,7) OVER (ORDER BY id_unique, date(date_releve), libelle_carburant) AS prix_7,LAG(prix,8) OVER (ORDER BY id_unique, date(date_releve), libelle_carburant) AS prix_8  '\n",
    "    'FROM prix_clean '\n",
    "    'ORDER BY id_unique, date_releve '\n",
    "    )"
   ]
  },
  {
   "cell_type": "code",
   "execution_count": null,
   "metadata": {
    "collapsed": true
   },
   "outputs": [],
   "source": [
    "train, test = spark.table('prix_reg').randomSplit([0.7, 0.3])"
   ]
  },
  {
   "cell_type": "markdown",
   "metadata": {},
   "source": [
    "> We want to see the impact of all lags on the price."
   ]
  },
  {
   "cell_type": "code",
   "execution_count": null,
   "metadata": {
    "collapsed": true
   },
   "outputs": [],
   "source": [
    "features = [\"prix_1\", \"prix_2\", \"prix_3\", \"prix_4\", \"prix_5\", \"prix_6\", \"prix_7\"]"
   ]
  },
  {
   "cell_type": "code",
   "execution_count": null,
   "metadata": {
    "collapsed": true
   },
   "outputs": [],
   "source": [
    "features = [\"prix_1\", \"prix_2\", \"prix_3\", \"prix_4\", \"prix_5\", \"prix_6\", \"prix_7\",\"prix_8\"]\n",
    "Tok = Tokenizer(inputCol=\"libelle_carburant\", outputCol=\"Carburant\") \n",
    "vectorAssembler = VectorAssembler(inputCols=features, outputCol=\"unscaled_features\")\n",
    "standardScaler = StandardScaler(inputCol=\"unscaled_features\", outputCol=\"features\")\n",
    "lr = LinearRegression()\n",
    "stages = [Tok, vectorAssembler, standardScaler, lr]\n",
    "pipeline = Pipeline(stages=stages)\n",
    "model = pipeline.fit(train)\n",
    "prediction = model.transform(test)\n",
    "prediction.show()"
   ]
  },
  {
   "cell_type": "markdown",
   "metadata": {},
   "source": [
    "> We could observe some information on our model:"
   ]
  },
  {
   "cell_type": "code",
   "execution_count": null,
   "metadata": {
    "collapsed": true
   },
   "outputs": [],
   "source": [
    "from pyspark.ml.evaluation import RegressionEvaluator\n",
    "reg_data = RegressionEvaluator(labelCol=\"prix\", predictionCol=\"prediction\", metricName=\"rmse\")\n",
    "\n",
    "# Root Mean Square Error\n",
    "rmse = reg_data.evaluate(prediction)\n",
    "print(\"RMSE: %.3f\" % rmse)\n",
    "\n",
    "# Mean Square Error\n",
    "mse = reg_data.evaluate(prediction, {reg_data.metricName: \"mse\"})\n",
    "print(\"MSE: %.3f\" % mse)\n",
    "\n",
    "# Mean Absolute Error\n",
    "mae = reg_data.evaluate(prediction, {reg_data.metricName: \"mae\"})\n",
    "print(\"MAE: %.3f\" % mae)\n",
    "\n",
    "# r2 - coefficient of determination\n",
    "r2 = reg_data.evaluate(prediction, {reg_data.metricName: \"r2\"})\n",
    "print(\"r2: %.3f\" %r2)"
   ]
  },
  {
   "cell_type": "markdown",
   "metadata": {
    "collapsed": true
   },
   "source": [
    "Thanks for reading.\n",
    "\n",
    "Alexis COTTEZ - AMSE Student"
   ]
  }
 ],
 "metadata": {
  "kernelspec": {
   "display_name": "Python 3",
   "language": "python",
   "name": "python3"
  },
  "language_info": {
   "codemirror_mode": {
    "name": "ipython",
    "version": 3
   },
   "file_extension": ".py",
   "mimetype": "text/x-python",
   "name": "python",
   "nbconvert_exporter": "python",
   "pygments_lexer": "ipython3",
   "version": "3.6.3"
  }
 },
 "nbformat": 4,
 "nbformat_minor": 2
}
